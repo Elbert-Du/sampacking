{
 "cells": [
  {
   "cell_type": "code",
   "execution_count": 1,
   "metadata": {},
   "outputs": [],
   "source": [
    "import pandas as pd\n",
    "import numpy as np\n",
    "import gzip\n",
    "import pickle\n",
    "from os.path import expanduser\n",
    "from copy import deepcopy\n",
    "from sampacking.partition import manage_lists, reshuffle_bins, bin_packing_mean, check_packing, ks_2samp_multi_dim, add_delta_equal_weights\n",
    "%load_ext autoreload\n",
    "%autoreload 1\n",
    "%aimport sampacking.partition"
   ]
  },
  {
   "cell_type": "code",
   "execution_count": 2,
   "metadata": {
    "collapsed": true
   },
   "outputs": [],
   "source": [
    "od = pickle.load(open('../data/partition_data_99.p', 'rb'))"
   ]
  },
  {
   "cell_type": "code",
   "execution_count": 3,
   "metadata": {},
   "outputs": [
    {
     "name": "stdout",
     "output_type": "stream",
     "text": [
      "459\n"
     ]
    }
   ],
   "source": [
    "ordered_data = od\n",
    "ordered_weights = [x.shape[0] for x in od]\n",
    "print(len(od))\n",
    "number_of_bins = 6"
   ]
  },
  {
   "cell_type": "code",
   "execution_count": 4,
   "metadata": {},
   "outputs": [
    {
     "name": "stdout",
     "output_type": "stream",
     "text": [
      "(206233.83333333334, 2580.6494929679147, 0.0045179796658785243, 0.0080547618810614674)\n",
      "[207288, 205725, 208901, 201318, 208797, 205374]\n"
     ]
    }
   ],
   "source": [
    "inds = bin_packing_mean(ordered_data, number_of_bins, distance_func=ks_2samp_multi_dim)\n",
    "print(check_packing(inds, ordered_weights, ordered_data, ks_2samp_multi_dim))\n",
    "ww = [[ordered_weights[i] for i in ii] for ii in inds]\n",
    "print(list(map(lambda x: sum(x)*len(x), ww)))"
   ]
  },
  {
   "cell_type": "code",
   "execution_count": 5,
   "metadata": {},
   "outputs": [
    {
     "name": "stdout",
     "output_type": "stream",
     "text": [
      "(206233.83333333334, 2580.6494929679147, 0.0045179796658785243, 0.0080547618810614674) ; std/mean = 0.012513220800181904\n",
      "(206228.5, 1585.3458876009781, 0.004697706090530121, 0.0070823086471373253) ; std/mean = 0.007687326861229064\n",
      "(206244.0, 236.90504426879559, 0.0042381932844912651, 0.0066011552643445714) ; std/mean = 0.0011486639333449487\n",
      "6\n"
     ]
    }
   ],
   "source": [
    "iis = reshuffle_bins(inds, ordered_data, 0.5, ks_2samp_multi_dim)\n",
    "print(len(iis))"
   ]
  },
  {
   "cell_type": "code",
   "execution_count": 6,
   "metadata": {},
   "outputs": [
    {
     "name": "stdout",
     "output_type": "stream",
     "text": [
      "[206496, 205800, 206514, 206190, 206232, 206232]\n"
     ]
    }
   ],
   "source": [
    "ww = [[ordered_weights[i] for i in ii] for ii in iis]\n",
    "print(list(map(lambda x: sum(x)*len(x), ww)))"
   ]
  },
  {
   "cell_type": "code",
   "execution_count": 7,
   "metadata": {},
   "outputs": [
    {
     "name": "stdout",
     "output_type": "stream",
     "text": [
      "[13, 33, 26, 139, 11] [280  80 142 316 448]\n",
      "[10, 10, 10, 10, 10, 10, 10, 10, 10, 10, 10, 10, 10, 10, 10, 10, 10, 10, 10, 10, 10, 10, 10, 11, 11, 11, 11, 11, 11, 11]\n",
      "[0, 0, 0, 0, 0, 0, 0, 0, 0, 0, 0, 0, 0, 0, 0, 0, 0, 0, 0, 0, 0, 0, 1, 0, 0, 0, 0, 0, 0, 0]\n",
      "1\n",
      "99\n",
      "98\n"
     ]
    },
    {
     "data": {
      "text/plain": [
       "([13.001099999999999, 33.0002, 26.000299999999999, 139.0, 11.0008],\n",
       " [13, 33, 26, 139, 11])"
      ]
     },
     "execution_count": 7,
     "metadata": {},
     "output_type": "execute_result"
    }
   ],
   "source": [
    "ww = add_delta_equal_weights(ordered_weights)\n",
    "ww[:5], ordered_weights[:5]"
   ]
  },
  {
   "cell_type": "code",
   "execution_count": 8,
   "metadata": {},
   "outputs": [
    {
     "ename": "NameError",
     "evalue": "name 'ks_2samp' is not defined",
     "output_type": "error",
     "traceback": [
      "\u001b[0;31m---------------------------------------------------------------------------\u001b[0m",
      "\u001b[0;31mNameError\u001b[0m                                 Traceback (most recent call last)",
      "\u001b[0;32m<ipython-input-8-623fe03e0763>\u001b[0m in \u001b[0;36m<module>\u001b[0;34m()\u001b[0m\n\u001b[0;32m----> 1\u001b[0;31m \u001b[0;32mdef\u001b[0m \u001b[0mbin_packing_mod\u001b[0m\u001b[0;34m(\u001b[0m\u001b[0mpdfs_input\u001b[0m\u001b[0;34m,\u001b[0m \u001b[0mnumber_bins\u001b[0m\u001b[0;34m,\u001b[0m \u001b[0mdistance_func\u001b[0m\u001b[0;34m=\u001b[0m\u001b[0mks_2samp\u001b[0m\u001b[0;34m)\u001b[0m\u001b[0;34m:\u001b[0m\u001b[0;34m\u001b[0m\u001b[0m\n\u001b[0m\u001b[1;32m      2\u001b[0m     \"\"\"\n\u001b[1;32m      3\u001b[0m     \u001b[0mpartition\u001b[0m \u001b[0mlist\u001b[0m \u001b[0mof\u001b[0m \u001b[0mnumpy\u001b[0m \u001b[0marrays\u001b[0m \u001b[0mpdfs_input\u001b[0m \u001b[0minto\u001b[0m \u001b[0ma\u001b[0m \u001b[0mlist\u001b[0m \u001b[0mof\u001b[0m \u001b[0mlists\u001b[0m\u001b[0;34m\u001b[0m\u001b[0m\n\u001b[1;32m      4\u001b[0m \u001b[0;34m\u001b[0m\u001b[0m\n\u001b[1;32m      5\u001b[0m     \u001b[0;34m:\u001b[0m\u001b[0mparam\u001b[0m \u001b[0mpdfs_input\u001b[0m\u001b[0;34m:\u001b[0m\u001b[0;34m\u001b[0m\u001b[0m\n",
      "\u001b[0;31mNameError\u001b[0m: name 'ks_2samp' is not defined"
     ]
    }
   ],
   "source": [
    "def bin_packing_mod(pdfs_input, number_bins, distance_func=ks_2samp_multi_dim):\n",
    "    \"\"\"\n",
    "    partition list of numpy arrays pdfs_input into a list of lists\n",
    "\n",
    "    :param pdfs_input:\n",
    "    :param number_bins: tentative number of bins\n",
    "    :param distance_func: sample distance func\n",
    "    :return:\n",
    "    \"\"\"\n",
    "\n",
    "    # descending order in size and in std\n",
    "    inds = [x[0] for x in sorted(enumerate(pdfs_input),\n",
    "                                 key=lambda y: (y[1].shape[0], y[1].std()), reverse=True)]\n",
    "\n",
    "    weights = [pdfs_input[ii].shape[0] for ii in inds]\n",
    "    pdfs = [pdfs_input[ii] for ii in inds]\n",
    "\n",
    "    w_mean0 = mean(weights)\n",
    "    sample0 = concatenate(pdfs_input)\n",
    "    items_per_bin = int(ceil(len(weights) / number_bins))\n",
    "    bin_capacity = (items_per_bin * w_mean0)\n",
    "    bin_product = bin_capacity * items_per_bin\n",
    "\n",
    "    if max(weights) > bin_capacity:\n",
    "        raise ValueError('Max item weight is greater than proposed bin cap')\n",
    "    # populate each bin with a largest available element\n",
    "    bins = [[x] for x in weights[:number_bins]]\n",
    "    indices = [[i] for i in inds[:number_bins]]\n",
    "    pdf_bins = [[i] for i in pdfs[:number_bins]]\n",
    "\n",
    "    indices_output = []\n",
    "    weights = weights[number_bins:]\n",
    "    inds = inds[number_bins:]\n",
    "    pdfs = pdfs[number_bins:]\n",
    "\n",
    "    diffs = [x - y for x, y in zip(weights[:-1], weights[1:])]\n",
    "    bbs = [0] + [j + 1 for j in range(len(diffs)) if diffs[j] != 0]\n",
    "    # pdfs2 = [pdfs[bbs[i]:bbs[i + 1]] for i in range(len(bbs) - 1)] + [pdfs[bbs[-1]:]]\n",
    "    # inds2 = [inds[bbs[i]:bbs[i + 1]] for i in range(len(bbs) - 1)] + [inds[bbs[-1]:]]\n",
    "    weights_uni = [weights[bbs[i]] for i in range(len(bbs))]\n",
    "    j_cur_bin = 0\n",
    "    k_cur_weight = 0\n",
    "\n",
    "    state = -1, -1, -1, -1\n",
    "    while weights_uni:\n",
    "        ind_bin = indices[j_cur_bin]\n",
    "        wei_bin = bins[j_cur_bin]\n",
    "        pdf_bin = pdf_bins[j_cur_bin]\n",
    "        ind_strata = inds2[k_cur_weight]\n",
    "        wei_strata = weights_uni[k_cur_weight]\n",
    "        pdf_strata = pdfs2[k_cur_weight]\n",
    "\n",
    "        pi_tentative = (sum(wei_bin) + wei_strata) * (len(wei_bin) + 1)\n",
    "        pi_tentative_min = (sum(wei_bin) + min(weights_uni)) * (len(wei_bin) + 1)\n",
    "        if pi_tentative < bin_product:\n",
    "            dists = []\n",
    "            for pdf in pdf_strata:\n",
    "                bin_pdf_dist = distance_func(concatenate(pdf_bin), sample0)[0]\n",
    "                bin_pdf_dist_new = distance_func(concatenate(pdf_bin + [pdf]), sample0)[0]\n",
    "                diff_pdf = bin_pdf_dist_new / bin_pdf_dist\n",
    "                dists.append(diff_pdf)\n",
    "            j_best = argmin(array(dists) ** 2)\n",
    "            ind_bin.append(ind_strata.pop(j_best))\n",
    "            pdf_bin.append(pdf_strata.pop(j_best))\n",
    "            wei_bin.append(wei_strata)\n",
    "            accepted = True\n",
    "            state = j_cur_bin, k_cur_weight, len(bins), len(weights_uni)\n",
    "        else:\n",
    "            accepted = False\n",
    "        if not accepted and state == (j_cur_bin, k_cur_weight, len(bins), len(weights_uni)):\n",
    "            print('Loop detected')\n",
    "            indices.append([ind_strata.pop()])\n",
    "            pdf_bins.append([pdf_strata.pop()])\n",
    "            bins.append([wei_strata])\n",
    "        if not ind_strata:\n",
    "            inds2.pop(k_cur_weight)\n",
    "            pdfs2.pop(k_cur_weight)\n",
    "            weights_uni.pop(k_cur_weight)\n",
    "        if pi_tentative_min > bin_product:\n",
    "            indices_output.append(indices.pop(j_cur_bin))\n",
    "            pdf_bins.pop(j_cur_bin)\n",
    "            bins.pop(j_cur_bin)\n",
    "        if weights_uni:\n",
    "            k_cur_weight = (k_cur_weight + 1) % len(weights_uni)\n",
    "        if bins:\n",
    "            j_cur_bin = (j_cur_bin + 1) % len(bins)\n",
    "    indices_output.extend(indices)\n",
    "    return indices_output"
   ]
  },
  {
   "cell_type": "code",
   "execution_count": null,
   "metadata": {
    "collapsed": true
   },
   "outputs": [],
   "source": []
  }
 ],
 "metadata": {
  "kernelspec": {
   "display_name": "Python 3",
   "language": "python",
   "name": "python3"
  },
  "language_info": {
   "codemirror_mode": {
    "name": "ipython",
    "version": 3
   },
   "file_extension": ".py",
   "mimetype": "text/x-python",
   "name": "python",
   "nbconvert_exporter": "python",
   "pygments_lexer": "ipython3",
   "version": "3.5.2"
  }
 },
 "nbformat": 4,
 "nbformat_minor": 2
}
